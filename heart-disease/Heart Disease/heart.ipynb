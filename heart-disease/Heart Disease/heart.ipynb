{
 "cells": [
  {
   "cell_type": "code",
   "execution_count": 3,
   "metadata": {},
   "outputs": [
    {
     "name": "stdout",
     "output_type": "stream",
     "text": [
      "\n",
      "Logistic Regression Metrics:\n",
      "Accuracy : 0.84\n",
      "Precision: 0.84\n",
      "Recall   : 0.86\n",
      "F1 Score : 0.85\n",
      "\n",
      "Random Forest Metrics:\n",
      "Accuracy : 0.92\n",
      "Precision: 0.93\n",
      "Recall   : 0.93\n",
      "F1 Score : 0.93\n",
      "\n",
      "Best model (Random Forest) saved as 'best_heart_disease_model.pkl'\n"
     ]
    }
   ],
   "source": [
    "import pandas as pd\n",
    "from sklearn.model_selection import train_test_split\n",
    "from sklearn.preprocessing import StandardScaler\n",
    "from sklearn.linear_model import LogisticRegression\n",
    "from sklearn.ensemble import RandomForestClassifier\n",
    "from sklearn.metrics import accuracy_score, precision_score, recall_score, f1_score\n",
    "import joblib\n",
    "\n",
    "# 1. Load Data\n",
    "df = pd.read_csv('dataset.csv')  # <-- Change to your file path\n",
    "\n",
    "# 2. Prepare Features and Target\n",
    "X = df.drop('target', axis=1)\n",
    "y = df['target']\n",
    "\n",
    "# 3. Train-Test Split\n",
    "X_train, X_test, y_train, y_test = train_test_split(\n",
    "    X, y, test_size=0.2, random_state=42, stratify=y\n",
    ")\n",
    "\n",
    "# 4. Standard Scaling (for Logistic Regression)\n",
    "scaler = StandardScaler()\n",
    "X_train_scaled = scaler.fit_transform(X_train)\n",
    "X_test_scaled = scaler.transform(X_test)\n",
    "\n",
    "# 5. Train Logistic Regression\n",
    "logreg = LogisticRegression(random_state=42)\n",
    "logreg.fit(X_train_scaled, y_train)\n",
    "y_pred_logreg = logreg.predict(X_test_scaled)\n",
    "\n",
    "# 6. Train Random Forest (no scaling needed)\n",
    "rf = RandomForestClassifier(n_estimators=100, random_state=42)\n",
    "rf.fit(X_train, y_train)\n",
    "y_pred_rf = rf.predict(X_test)\n",
    "\n",
    "# 7. Evaluate and Compare Metrics\n",
    "def print_metrics(y_true, y_pred, model_name):\n",
    "    print(f\"\\n{model_name} Metrics:\")\n",
    "    print(f\"Accuracy : {accuracy_score(y_true, y_pred):.2f}\")\n",
    "    print(f\"Precision: {precision_score(y_true, y_pred):.2f}\")\n",
    "    print(f\"Recall   : {recall_score(y_true, y_pred):.2f}\")\n",
    "    print(f\"F1 Score : {f1_score(y_true, y_pred):.2f}\")\n",
    "\n",
    "print_metrics(y_test, y_pred_logreg, \"Logistic Regression\")\n",
    "print_metrics(y_test, y_pred_rf, \"Random Forest\")\n",
    "\n",
    "# 8. Save the Best Model (example: Random Forest performed better)\n",
    "joblib.dump(rf, 'best_heart_disease_model.pkl')\n",
    "# Save the scaler if you ever want to use Logistic Regression for prediction\n",
    "joblib.dump(scaler, 'scaler.pkl')\n",
    "\n",
    "print(\"\\nBest model (Random Forest) saved as 'best_heart_disease_model.pkl'\")\n"
   ]
  },
  {
   "cell_type": "code",
   "execution_count": null,
   "metadata": {},
   "outputs": [],
   "source": []
  }
 ],
 "metadata": {
  "kernelspec": {
   "display_name": "venv",
   "language": "python",
   "name": "python3"
  },
  "language_info": {
   "codemirror_mode": {
    "name": "ipython",
    "version": 3
   },
   "file_extension": ".py",
   "mimetype": "text/x-python",
   "name": "python",
   "nbconvert_exporter": "python",
   "pygments_lexer": "ipython3",
   "version": "3.12.10"
  }
 },
 "nbformat": 4,
 "nbformat_minor": 2
}
